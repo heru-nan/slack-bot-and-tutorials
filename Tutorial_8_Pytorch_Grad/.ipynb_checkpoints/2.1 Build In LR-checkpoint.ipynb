{
 "cells": [
  {
   "cell_type": "code",
   "execution_count": 1,
   "metadata": {},
   "outputs": [],
   "source": [
    "import torch\n",
    "import torch.nn as nn\n",
    "import numpy as np"
   ]
  },
  {
   "cell_type": "code",
   "execution_count": 2,
   "metadata": {},
   "outputs": [],
   "source": [
    "# Input (temp, rainfall, humidity)\n",
    "inputs = np.array([[73, 67, 43], \n",
    "                   [91, 88, 64], \n",
    "                   [87, 134, 58], \n",
    "                   [102, 43, 37], \n",
    "                   [69, 96, 70], \n",
    "                   [74, 66, 43], \n",
    "                   [91, 87, 65], \n",
    "                   [88, 134, 59], \n",
    "                   [101, 44, 37], \n",
    "                   [68, 96, 71], \n",
    "                   [73, 66, 44], \n",
    "                   [92, 87, 64], \n",
    "                   [87, 135, 57], \n",
    "                   [103, 43, 36], \n",
    "                   [68, 97, 70]], \n",
    "                  dtype='float32')\n",
    "\n",
    "# Targets (apples, oranges)\n",
    "targets = np.array([[56, 70], \n",
    "                    [81, 101], \n",
    "                    [119, 133], \n",
    "                    [22, 37], \n",
    "                    [103, 119],\n",
    "                    [57, 69], \n",
    "                    [80, 102], \n",
    "                    [118, 132], \n",
    "                    [21, 38], \n",
    "                    [104, 118], \n",
    "                    [57, 69], \n",
    "                    [82, 100], \n",
    "                    [118, 134], \n",
    "                    [20, 38], \n",
    "                    [102, 120]], \n",
    "                   dtype='float32')\n",
    "\n",
    "inputs = torch.from_numpy(inputs)\n",
    "targets = torch.from_numpy(targets)"
   ]
  },
  {
   "cell_type": "code",
   "execution_count": 3,
   "metadata": {},
   "outputs": [
    {
     "data": {
      "text/plain": [
       "(tensor([[ 73.,  67.,  43.],\n",
       "         [ 91.,  88.,  64.],\n",
       "         [ 87., 134.,  58.]]),\n",
       " tensor([[ 56.,  70.],\n",
       "         [ 81., 101.],\n",
       "         [119., 133.]]))"
      ]
     },
     "execution_count": 3,
     "metadata": {},
     "output_type": "execute_result"
    }
   ],
   "source": [
    "from torch.utils.data import TensorDataset\n",
    "\n",
    "train_ds = TensorDataset(inputs,targets) #allow pick a part of the data\n",
    "train_ds[0:3]"
   ]
  },
  {
   "cell_type": "code",
   "execution_count": 4,
   "metadata": {},
   "outputs": [],
   "source": [
    "from torch.utils.data import DataLoader\n",
    "\n",
    "batch_size = 5\n",
    "train_dl = DataLoader(train_ds, batch_size, shuffle=True) #creating batches  -> shuffle randomized"
   ]
  },
  {
   "cell_type": "code",
   "execution_count": 5,
   "metadata": {},
   "outputs": [
    {
     "name": "stdout",
     "output_type": "stream",
     "text": [
      "tensor([[ 91.,  87.,  65.],\n",
      "        [102.,  43.,  37.],\n",
      "        [ 73.,  67.,  43.],\n",
      "        [ 68.,  97.,  70.],\n",
      "        [ 91.,  88.,  64.]])\n",
      "tensor([[ 80., 102.],\n",
      "        [ 22.,  37.],\n",
      "        [ 56.,  70.],\n",
      "        [102., 120.],\n",
      "        [ 81., 101.]])\n"
     ]
    }
   ],
   "source": [
    "for xb, yb in train_dl:\n",
    "    print(xb)\n",
    "    print(yb)\n",
    "    break"
   ]
  },
  {
   "cell_type": "code",
   "execution_count": 6,
   "metadata": {},
   "outputs": [
    {
     "name": "stdout",
     "output_type": "stream",
     "text": [
      "Parameter containing:\n",
      "tensor([[-0.0606, -0.4341,  0.0334],\n",
      "        [-0.1654,  0.2416,  0.0323]], requires_grad=True)\n",
      "Parameter containing:\n",
      "tensor([ 0.1345, -0.3228], requires_grad=True)\n"
     ]
    }
   ],
   "source": [
    "model = nn.Linear(3, 2) #int in, int out\n",
    "print(model.weight)\n",
    "print(model.bias)"
   ]
  },
  {
   "cell_type": "code",
   "execution_count": 7,
   "metadata": {},
   "outputs": [
    {
     "data": {
      "text/plain": [
       "[Parameter containing:\n",
       " tensor([[-0.0606, -0.4341,  0.0334],\n",
       "         [-0.1654,  0.2416,  0.0323]], requires_grad=True),\n",
       " Parameter containing:\n",
       " tensor([ 0.1345, -0.3228], requires_grad=True)]"
      ]
     },
     "execution_count": 7,
     "metadata": {},
     "output_type": "execute_result"
    }
   ],
   "source": [
    "list(model.parameters())"
   ]
  },
  {
   "cell_type": "code",
   "execution_count": 8,
   "metadata": {},
   "outputs": [
    {
     "data": {
      "text/plain": [
       "tensor([[-31.9394,   5.1793],\n",
       "        [-41.4452,   7.9541],\n",
       "        [-61.3732,  19.5342],\n",
       "        [-23.4782,  -5.6085],\n",
       "        [-43.3846,  13.7191],\n",
       "        [-31.5658,   4.7724],\n",
       "        [-40.9777,   7.7449],\n",
       "        [-61.4004,  19.4011],\n",
       "        [-23.8517,  -5.2015],\n",
       "        [-43.2905,  13.9168],\n",
       "        [-31.4718,   4.9701],\n",
       "        [-41.0717,   7.5472],\n",
       "        [-61.8407,  19.7434],\n",
       "        [-23.5722,  -5.8062],\n",
       "        [-43.7581,  14.1260]], grad_fn=<AddmmBackward>)"
      ]
     },
     "execution_count": 8,
     "metadata": {},
     "output_type": "execute_result"
    }
   ],
   "source": [
    "preds = model(inputs)\n",
    "preds"
   ]
  },
  {
   "cell_type": "code",
   "execution_count": 9,
   "metadata": {},
   "outputs": [],
   "source": [
    "# LOSS\n",
    "import torch.nn.functional as F\n",
    "loss_fn = F.mse_loss"
   ]
  },
  {
   "cell_type": "code",
   "execution_count": 10,
   "metadata": {},
   "outputs": [
    {
     "data": {
      "text/plain": [
       "tensor(11714.6338, grad_fn=<MseLossBackward>)"
      ]
     },
     "execution_count": 10,
     "metadata": {},
     "output_type": "execute_result"
    }
   ],
   "source": [
    "loss = loss_fn(model(inputs), targets); loss"
   ]
  },
  {
   "cell_type": "code",
   "execution_count": 11,
   "metadata": {},
   "outputs": [],
   "source": [
    "# OPTIMIZER IMPROVE THE MODEL\n",
    "opt = torch.optim.SGD(model.parameters(), lr=1e-5) # stochastic <-> batchessssss"
   ]
  },
  {
   "cell_type": "code",
   "execution_count": 12,
   "metadata": {},
   "outputs": [],
   "source": [
    "def fit(num_epochs, model, loss_fn, opt, train_dl):\n",
    "    for epoch in range(num_epochs):\n",
    "        for xb, yb in train_dl:\n",
    "            pred = model(xb)\n",
    "            loss = loss_fn(pred, yb)\n",
    "            loss.backward()\n",
    "            opt.step() # UPDATE PARAMETERS (W and B) using GRADIENT\n",
    "            opt.zero_grad()\n",
    "        if (epoch+1) % 10 == 0:\n",
    "            print(\"EPOCH [{}/{}, LOSS: {:.4f}]\".format(epoch+1, num_epochs, loss.item()))"
   ]
  },
  {
   "cell_type": "code",
   "execution_count": 13,
   "metadata": {},
   "outputs": [
    {
     "name": "stdout",
     "output_type": "stream",
     "text": [
      "EPOCH [10/100, LOSS: 404.0325]\n",
      "EPOCH [20/100, LOSS: 98.6721]\n",
      "EPOCH [30/100, LOSS: 172.4009]\n",
      "EPOCH [40/100, LOSS: 21.5550]\n",
      "EPOCH [50/100, LOSS: 140.7537]\n",
      "EPOCH [60/100, LOSS: 95.1576]\n",
      "EPOCH [70/100, LOSS: 58.7448]\n",
      "EPOCH [80/100, LOSS: 19.2935]\n",
      "EPOCH [90/100, LOSS: 13.8225]\n",
      "EPOCH [100/100, LOSS: 24.9522]\n"
     ]
    }
   ],
   "source": [
    "# TRAINING\n",
    "fit(100, model, loss_fn, opt, train_dl)"
   ]
  },
  {
   "cell_type": "code",
   "execution_count": 14,
   "metadata": {},
   "outputs": [
    {
     "name": "stdout",
     "output_type": "stream",
     "text": [
      "EPOCH [10/1000, LOSS: 21.4274]\n",
      "EPOCH [20/1000, LOSS: 14.6637]\n",
      "EPOCH [30/1000, LOSS: 13.0234]\n",
      "EPOCH [40/1000, LOSS: 9.8010]\n",
      "EPOCH [50/1000, LOSS: 19.8554]\n",
      "EPOCH [60/1000, LOSS: 14.8856]\n",
      "EPOCH [70/1000, LOSS: 10.0604]\n",
      "EPOCH [80/1000, LOSS: 9.9434]\n",
      "EPOCH [90/1000, LOSS: 5.9346]\n",
      "EPOCH [100/1000, LOSS: 10.4389]\n",
      "EPOCH [110/1000, LOSS: 10.3673]\n",
      "EPOCH [120/1000, LOSS: 7.9580]\n",
      "EPOCH [130/1000, LOSS: 4.8492]\n",
      "EPOCH [140/1000, LOSS: 2.7727]\n",
      "EPOCH [150/1000, LOSS: 6.4522]\n",
      "EPOCH [160/1000, LOSS: 3.6936]\n",
      "EPOCH [170/1000, LOSS: 4.2175]\n",
      "EPOCH [180/1000, LOSS: 2.5098]\n",
      "EPOCH [190/1000, LOSS: 3.0477]\n",
      "EPOCH [200/1000, LOSS: 5.0074]\n",
      "EPOCH [210/1000, LOSS: 3.3136]\n",
      "EPOCH [220/1000, LOSS: 3.7325]\n",
      "EPOCH [230/1000, LOSS: 4.5350]\n",
      "EPOCH [240/1000, LOSS: 4.0426]\n",
      "EPOCH [250/1000, LOSS: 3.8237]\n",
      "EPOCH [260/1000, LOSS: 2.4000]\n",
      "EPOCH [270/1000, LOSS: 4.2088]\n",
      "EPOCH [280/1000, LOSS: 3.9500]\n",
      "EPOCH [290/1000, LOSS: 4.1650]\n",
      "EPOCH [300/1000, LOSS: 3.1431]\n",
      "EPOCH [310/1000, LOSS: 2.1426]\n",
      "EPOCH [320/1000, LOSS: 3.6281]\n",
      "EPOCH [330/1000, LOSS: 3.0787]\n",
      "EPOCH [340/1000, LOSS: 2.6167]\n",
      "EPOCH [350/1000, LOSS: 1.4581]\n",
      "EPOCH [360/1000, LOSS: 3.4730]\n",
      "EPOCH [370/1000, LOSS: 1.5276]\n",
      "EPOCH [380/1000, LOSS: 3.5455]\n",
      "EPOCH [390/1000, LOSS: 1.4096]\n",
      "EPOCH [400/1000, LOSS: 2.6795]\n",
      "EPOCH [410/1000, LOSS: 2.5447]\n",
      "EPOCH [420/1000, LOSS: 2.0691]\n",
      "EPOCH [430/1000, LOSS: 2.1317]\n",
      "EPOCH [440/1000, LOSS: 1.9031]\n",
      "EPOCH [450/1000, LOSS: 2.5277]\n",
      "EPOCH [460/1000, LOSS: 2.1931]\n",
      "EPOCH [470/1000, LOSS: 1.8631]\n",
      "EPOCH [480/1000, LOSS: 2.3781]\n",
      "EPOCH [490/1000, LOSS: 0.9489]\n",
      "EPOCH [500/1000, LOSS: 2.2604]\n",
      "EPOCH [510/1000, LOSS: 1.2405]\n",
      "EPOCH [520/1000, LOSS: 2.2558]\n",
      "EPOCH [530/1000, LOSS: 1.2188]\n",
      "EPOCH [540/1000, LOSS: 1.4102]\n",
      "EPOCH [550/1000, LOSS: 0.7508]\n",
      "EPOCH [560/1000, LOSS: 1.4585]\n",
      "EPOCH [570/1000, LOSS: 0.7907]\n",
      "EPOCH [580/1000, LOSS: 2.0113]\n",
      "EPOCH [590/1000, LOSS: 1.2000]\n",
      "EPOCH [600/1000, LOSS: 0.8000]\n",
      "EPOCH [610/1000, LOSS: 1.4938]\n",
      "EPOCH [620/1000, LOSS: 1.2058]\n",
      "EPOCH [630/1000, LOSS: 1.8261]\n",
      "EPOCH [640/1000, LOSS: 0.8947]\n",
      "EPOCH [650/1000, LOSS: 1.8055]\n",
      "EPOCH [660/1000, LOSS: 1.3131]\n",
      "EPOCH [670/1000, LOSS: 1.7113]\n",
      "EPOCH [680/1000, LOSS: 1.3578]\n",
      "EPOCH [690/1000, LOSS: 1.0280]\n",
      "EPOCH [700/1000, LOSS: 0.8857]\n",
      "EPOCH [710/1000, LOSS: 1.0262]\n",
      "EPOCH [720/1000, LOSS: 0.8078]\n",
      "EPOCH [730/1000, LOSS: 1.2336]\n",
      "EPOCH [740/1000, LOSS: 1.0864]\n",
      "EPOCH [750/1000, LOSS: 0.6574]\n",
      "EPOCH [760/1000, LOSS: 1.5766]\n",
      "EPOCH [770/1000, LOSS: 1.4248]\n",
      "EPOCH [780/1000, LOSS: 0.9198]\n",
      "EPOCH [790/1000, LOSS: 1.1902]\n",
      "EPOCH [800/1000, LOSS: 1.7355]\n",
      "EPOCH [810/1000, LOSS: 1.4807]\n",
      "EPOCH [820/1000, LOSS: 0.7705]\n",
      "EPOCH [830/1000, LOSS: 1.2474]\n",
      "EPOCH [840/1000, LOSS: 1.3114]\n",
      "EPOCH [850/1000, LOSS: 1.0903]\n",
      "EPOCH [860/1000, LOSS: 1.0338]\n",
      "EPOCH [870/1000, LOSS: 0.9327]\n",
      "EPOCH [880/1000, LOSS: 1.1752]\n",
      "EPOCH [890/1000, LOSS: 0.9432]\n",
      "EPOCH [900/1000, LOSS: 1.0673]\n",
      "EPOCH [910/1000, LOSS: 1.4508]\n",
      "EPOCH [920/1000, LOSS: 0.6032]\n",
      "EPOCH [930/1000, LOSS: 1.2813]\n",
      "EPOCH [940/1000, LOSS: 1.4856]\n",
      "EPOCH [950/1000, LOSS: 1.0294]\n",
      "EPOCH [960/1000, LOSS: 1.1205]\n",
      "EPOCH [970/1000, LOSS: 1.2220]\n",
      "EPOCH [980/1000, LOSS: 1.4870]\n",
      "EPOCH [990/1000, LOSS: 0.9197]\n",
      "EPOCH [1000/1000, LOSS: 1.4619]\n"
     ]
    }
   ],
   "source": [
    "fit(1000, model, loss_fn, opt, train_dl)"
   ]
  },
  {
   "cell_type": "code",
   "execution_count": 15,
   "metadata": {},
   "outputs": [
    {
     "data": {
      "text/plain": [
       "tensor([[53.4710, 67.4758]], grad_fn=<AddmmBackward>)"
      ]
     },
     "execution_count": 15,
     "metadata": {},
     "output_type": "execute_result"
    }
   ],
   "source": [
    "model(torch.tensor([[75, 63, 44.]])) #PREDICTION temp rain humedity"
   ]
  },
  {
   "cell_type": "code",
   "execution_count": 16,
   "metadata": {},
   "outputs": [],
   "source": [
    "# TO DEEP LEARNING\n",
    "model2 = nn.Sequential(\n",
    "    nn.Linear(3, 4), # 4 or 5 or 6 ...\n",
    "    nn.Sigmoid(),\n",
    "    nn.Linear(4, 2) # 4 or 5 or 6\n",
    ")"
   ]
  },
  {
   "cell_type": "code",
   "execution_count": 26,
   "metadata": {},
   "outputs": [],
   "source": [
    "opt = torch.optim.SGD(model2.parameters(), lr=1e-4)"
   ]
  },
  {
   "cell_type": "code",
   "execution_count": 27,
   "metadata": {},
   "outputs": [
    {
     "name": "stdout",
     "output_type": "stream",
     "text": [
      "EPOCH [10/100, LOSS: 1339.0056]\n",
      "EPOCH [20/100, LOSS: 819.7548]\n",
      "EPOCH [30/100, LOSS: 1325.8518]\n",
      "EPOCH [40/100, LOSS: 734.6945]\n",
      "EPOCH [50/100, LOSS: 787.0631]\n",
      "EPOCH [60/100, LOSS: 1226.9242]\n",
      "EPOCH [70/100, LOSS: 1172.9655]\n",
      "EPOCH [80/100, LOSS: 690.5634]\n",
      "EPOCH [90/100, LOSS: 1186.2672]\n",
      "EPOCH [100/100, LOSS: 1193.5752]\n"
     ]
    }
   ],
   "source": [
    "fit(100, model2, F.mse_loss, opt, train_dl)"
   ]
  },
  {
   "cell_type": "code",
   "execution_count": 28,
   "metadata": {},
   "outputs": [],
   "source": [
    "# INTRODUCE NOT LINEAR BEHAVIOR"
   ]
  },
  {
   "cell_type": "code",
   "execution_count": null,
   "metadata": {},
   "outputs": [],
   "source": []
  }
 ],
 "metadata": {
  "kernelspec": {
   "display_name": "Python 3",
   "language": "python",
   "name": "python3"
  },
  "language_info": {
   "codemirror_mode": {
    "name": "ipython",
    "version": 3
   },
   "file_extension": ".py",
   "mimetype": "text/x-python",
   "name": "python",
   "nbconvert_exporter": "python",
   "pygments_lexer": "ipython3",
   "version": "3.8.5"
  }
 },
 "nbformat": 4,
 "nbformat_minor": 4
}
